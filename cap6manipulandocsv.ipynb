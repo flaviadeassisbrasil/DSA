{
 "cells": [
  {
   "cell_type": "code",
   "execution_count": 18,
   "id": "ea11e62b",
   "metadata": {},
   "outputs": [],
   "source": [
    "import csv \n",
    "\n",
    "with open('numeros.csv', 'w') as arquivo:\n",
    "#criar um objeto de gravação \n",
    "    objeto = csv.writer(arquivo)\n",
    "#grava no arquivo linha por linha\n",
    "    objeto.writerow(('nota1', 'nota2', 'nota3'))\n",
    "    objeto.writerow((63,70,80))\n",
    "    objeto.writerow((23,56,78))\n",
    "    objeto.writerow((89,56,44))"
   ]
  },
  {
   "cell_type": "code",
   "execution_count": 23,
   "id": "72fbd567",
   "metadata": {},
   "outputs": [
    {
     "name": "stdout",
     "output_type": "stream",
     "text": [
      "['nota1', 'nota2', 'nota3']\n",
      "['63', '70', '80']\n",
      "['23', '56', '78']\n",
      "['89', '56', '44']\n"
     ]
    }
   ],
   "source": [
    "# leitura do arquivo csv\n",
    "\n",
    "with open('numeros.csv','r', encoding='utf8', newline ='\\r\\n') as arquivo:\n",
    "    leitor = csv.reader(arquivo)\n",
    "    for x in leitor:\n",
    "        print(x)"
   ]
  },
  {
   "cell_type": "code",
   "execution_count": 25,
   "id": "b9be80e4",
   "metadata": {},
   "outputs": [],
   "source": [
    "#gerando uma lista com arquivo csv\n",
    "with open('numeros.csv','r') as arquivo:\n",
    "    leitor = csv.reader(arquivo)\n",
    "    dados = list(leitor)"
   ]
  },
  {
   "cell_type": "code",
   "execution_count": 26,
   "id": "1017f78d",
   "metadata": {},
   "outputs": [
    {
     "name": "stdout",
     "output_type": "stream",
     "text": [
      "[['nota1', 'nota2', 'nota3'], [], ['63', '70', '80'], [], ['23', '56', '78'], [], ['89', '56', '44'], []]\n"
     ]
    }
   ],
   "source": [
    "print(dados)"
   ]
  },
  {
   "cell_type": "code",
   "execution_count": 27,
   "id": "3decbcfc",
   "metadata": {},
   "outputs": [
    {
     "name": "stdout",
     "output_type": "stream",
     "text": [
      "[]\n",
      "['63', '70', '80']\n",
      "[]\n",
      "['23', '56', '78']\n",
      "[]\n",
      "['89', '56', '44']\n",
      "[]\n"
     ]
    }
   ],
   "source": [
    "#imprimindo a partir da segunda linha \n",
    "for linha in dados[1:]:\n",
    "    print(linha)"
   ]
  },
  {
   "cell_type": "code",
   "execution_count": null,
   "id": "08450d3e",
   "metadata": {},
   "outputs": [],
   "source": []
  }
 ],
 "metadata": {
  "kernelspec": {
   "display_name": "Python 3 (ipykernel)",
   "language": "python",
   "name": "python3"
  },
  "language_info": {
   "codemirror_mode": {
    "name": "ipython",
    "version": 3
   },
   "file_extension": ".py",
   "mimetype": "text/x-python",
   "name": "python",
   "nbconvert_exporter": "python",
   "pygments_lexer": "ipython3",
   "version": "3.9.13"
  }
 },
 "nbformat": 4,
 "nbformat_minor": 5
}
