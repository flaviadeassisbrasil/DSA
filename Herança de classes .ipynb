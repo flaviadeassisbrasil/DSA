{
 "cells": [
  {
   "cell_type": "code",
   "execution_count": 1,
   "id": "b0cc6348",
   "metadata": {},
   "outputs": [],
   "source": [
    "#criando a super classe \n",
    "\n",
    "class Animal():\n",
    "    def __init__(self):\n",
    "        print('Animal criado')\n",
    "    def imprimir(self):\n",
    "        print('Este é um animal')\n",
    "    def comer(self):\n",
    "        print('É hora de comer')\n",
    "    def emitir_som(self):\n",
    "        pass\n",
    "    \n",
    "    "
   ]
  },
  {
   "cell_type": "code",
   "execution_count": 2,
   "id": "dc842811",
   "metadata": {},
   "outputs": [],
   "source": [
    "#criando a sub classe\n",
    "\n",
    "class Cachorro(Animal):\n",
    "    def __init__(self):\n",
    "        Animal.__init__(self)\n",
    "        print('Cachorro foi criado')\n",
    "    def emitir_som(self):\n",
    "        print('auau')\n",
    "    \n",
    "        "
   ]
  },
  {
   "cell_type": "code",
   "execution_count": 3,
   "id": "299f3a18",
   "metadata": {},
   "outputs": [],
   "source": [
    "#criando a outro sub classe \n",
    "\n",
    "class Gato(Animal):\n",
    "    def __init__(self):\n",
    "        Animal.__init__(self)\n",
    "        print('O gato foi criado')\n",
    "    def emitir_som(self):\n",
    "        print('miaau')"
   ]
  },
  {
   "cell_type": "code",
   "execution_count": 9,
   "id": "cd2ea27a",
   "metadata": {},
   "outputs": [
    {
     "name": "stdout",
     "output_type": "stream",
     "text": [
      "Animal criado\n",
      "O gato foi criado\n",
      "miaau\n"
     ]
    }
   ],
   "source": [
    "teste = Gato()\n",
    "teste.emitir_som()"
   ]
  },
  {
   "cell_type": "code",
   "execution_count": 2,
   "id": "02b39a56",
   "metadata": {},
   "outputs": [
    {
     "name": "stdout",
     "output_type": "stream",
     "text": [
      "vermelho\n",
      "sedan\n",
      "Ford\n",
      "4\n",
      "O carro está se movendo\n"
     ]
    }
   ],
   "source": [
    "class Veiculo():\n",
    "    \n",
    "    def __init__(self,cor,modelo,marca):\n",
    "        self.cor = cor\n",
    "        self.modelo = modelo\n",
    "        self.marca = marca\n",
    "        \n",
    "    def mover(self):\n",
    "        print('O veiculo está se movendo')\n",
    "        \n",
    "class Carro (Veiculo):\n",
    "    \n",
    "    def __init__(self,cor,modelo,marca,num_portas):\n",
    "        super().__init__(cor,modelo,marca)\n",
    "        self.num_portas = num_portas\n",
    "    \n",
    "    def mover(self):\n",
    "        print('O carro está se movendo')\n",
    "        \n",
    "        \n",
    "carro1 = Carro('vermelho', 'sedan','Ford', 4)        \n",
    "print(carro1.cor)\n",
    "print(carro1.modelo)\n",
    "print(carro1.marca)\n",
    "print(carro1.num_portas)\n",
    "carro1.mover()"
   ]
  },
  {
   "cell_type": "code",
   "execution_count": null,
   "id": "1e03fe0f",
   "metadata": {},
   "outputs": [],
   "source": []
  },
  {
   "cell_type": "code",
   "execution_count": null,
   "id": "21672089",
   "metadata": {},
   "outputs": [],
   "source": []
  },
  {
   "cell_type": "code",
   "execution_count": null,
   "id": "962b1529",
   "metadata": {},
   "outputs": [],
   "source": []
  },
  {
   "cell_type": "code",
   "execution_count": null,
   "id": "ea866823",
   "metadata": {},
   "outputs": [],
   "source": []
  },
  {
   "cell_type": "code",
   "execution_count": null,
   "id": "d316c77f",
   "metadata": {},
   "outputs": [],
   "source": []
  },
  {
   "cell_type": "code",
   "execution_count": null,
   "id": "9cec8fb7",
   "metadata": {},
   "outputs": [],
   "source": []
  }
 ],
 "metadata": {
  "kernelspec": {
   "display_name": "Python 3 (ipykernel)",
   "language": "python",
   "name": "python3"
  },
  "language_info": {
   "codemirror_mode": {
    "name": "ipython",
    "version": 3
   },
   "file_extension": ".py",
   "mimetype": "text/x-python",
   "name": "python",
   "nbconvert_exporter": "python",
   "pygments_lexer": "ipython3",
   "version": "3.9.13"
  }
 },
 "nbformat": 4,
 "nbformat_minor": 5
}
