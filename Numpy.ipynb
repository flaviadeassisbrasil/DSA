{
 "cells": [
  {
   "cell_type": "code",
   "execution_count": 3,
   "id": "39634622",
   "metadata": {},
   "outputs": [
    {
     "name": "stdout",
     "output_type": "stream",
     "text": [
      "[10 21 34 56 78 91 67]\n"
     ]
    }
   ],
   "source": [
    "import numpy as nupy\n",
    "\n",
    "arrl =nupy.array([10,21,34,56,78,91,67])\n",
    "print(arrl)"
   ]
  },
  {
   "cell_type": "code",
   "execution_count": 3,
   "id": "11434c2c",
   "metadata": {},
   "outputs": [
    {
     "data": {
      "text/plain": [
       "numpy.ndarray"
      ]
     },
     "execution_count": 3,
     "metadata": {},
     "output_type": "execute_result"
    }
   ],
   "source": [
    "type(arrl)"
   ]
  },
  {
   "cell_type": "code",
   "execution_count": 4,
   "id": "c8b2f849",
   "metadata": {},
   "outputs": [
    {
     "data": {
      "text/plain": [
       "(7,)"
      ]
     },
     "execution_count": 4,
     "metadata": {},
     "output_type": "execute_result"
    }
   ],
   "source": [
    "#verificando o formato do array\n",
    "arrl.shape"
   ]
  },
  {
   "cell_type": "code",
   "execution_count": 3,
   "id": "9da03532",
   "metadata": {},
   "outputs": [
    {
     "data": {
      "text/plain": [
       "78"
      ]
     },
     "execution_count": 3,
     "metadata": {},
     "output_type": "execute_result"
    }
   ],
   "source": [
    "#imprimindo um elemento especifico do array \n",
    "\n",
    "arrl[4]"
   ]
  },
  {
   "cell_type": "code",
   "execution_count": 5,
   "id": "9e68acbd",
   "metadata": {},
   "outputs": [
    {
     "data": {
      "text/plain": [
       "array([10, 21, 34, 56])"
      ]
     },
     "execution_count": 5,
     "metadata": {},
     "output_type": "execute_result"
    }
   ],
   "source": [
    "arrl[0:4]"
   ]
  },
  {
   "cell_type": "code",
   "execution_count": 6,
   "id": "b6005804",
   "metadata": {},
   "outputs": [],
   "source": [
    "#lista de indices\n",
    "\n",
    "indices = [1,2,4,5]"
   ]
  },
  {
   "cell_type": "code",
   "execution_count": 7,
   "id": "fdc0d98e",
   "metadata": {},
   "outputs": [
    {
     "data": {
      "text/plain": [
       "array([21, 34, 78, 91, 67])"
      ]
     },
     "execution_count": 7,
     "metadata": {},
     "output_type": "execute_result"
    }
   ],
   "source": [
    "#imprimendo os elementos do array com as posicões selecionadas na lista \n",
    "arrl[indices]"
   ]
  },
  {
   "cell_type": "code",
   "execution_count": 10,
   "id": "5d90fad6",
   "metadata": {},
   "outputs": [
    {
     "data": {
      "text/plain": [
       "array([10, 34, 56, 78])"
      ]
     },
     "execution_count": 10,
     "metadata": {},
     "output_type": "execute_result"
    }
   ],
   "source": [
    "#criando uma mascara boleana para numeros pares \n",
    "mask =(arrl % 2 == 0 )\n",
    "arrl[mask]"
   ]
  },
  {
   "cell_type": "code",
   "execution_count": 11,
   "id": "695139a5",
   "metadata": {},
   "outputs": [
    {
     "name": "stdout",
     "output_type": "stream",
     "text": [
      "[100  21  34  56  78  91  67]\n"
     ]
    }
   ],
   "source": [
    "#alterando elemento no array\n",
    "\n",
    "arrl[0]=100\n",
    "print(arrl)"
   ]
  },
  {
   "cell_type": "code",
   "execution_count": null,
   "id": "28fb9be7",
   "metadata": {},
   "outputs": [],
   "source": [
    "#não é possivel inserir um elemento de type diferente!!"
   ]
  },
  {
   "cell_type": "code",
   "execution_count": 4,
   "id": "2af787da",
   "metadata": {},
   "outputs": [
    {
     "name": "stdout",
     "output_type": "stream",
     "text": [
      "[1 2 3 4 5 9]\n"
     ]
    }
   ],
   "source": [
    "#FUNÇÃO NUMPYYYY\n",
    "\n",
    "arr2 = nupy.array([1,2,3,4,5,9])\n",
    "print(arr2)"
   ]
  },
  {
   "cell_type": "code",
   "execution_count": 13,
   "id": "96d26ade",
   "metadata": {},
   "outputs": [
    {
     "data": {
      "text/plain": [
       "array([ 1,  3,  6, 10, 15, 24], dtype=int32)"
      ]
     },
     "execution_count": 13,
     "metadata": {},
     "output_type": "execute_result"
    }
   ],
   "source": [
    "#metodo para soma acumulada\n",
    "\n",
    "arr2.cumsum()"
   ]
  },
  {
   "cell_type": "code",
   "execution_count": 5,
   "id": "dd44ce2b",
   "metadata": {},
   "outputs": [
    {
     "data": {
      "text/plain": [
       "array([   1,    2,    6,   24,  120, 1080], dtype=int32)"
      ]
     },
     "execution_count": 5,
     "metadata": {},
     "output_type": "execute_result"
    }
   ],
   "source": [
    "#produto acumulado\n",
    "arr2.cumprod()"
   ]
  },
  {
   "cell_type": "code",
   "execution_count": 6,
   "id": "c2c53d81",
   "metadata": {},
   "outputs": [],
   "source": [
    "#A função ARANGE cria um array numpy contendo uma prograssão aritimética a partir de um intervalo- star,stop,step\n",
    "arr3 = nupy.arange(0,50,5)"
   ]
  },
  {
   "cell_type": "code",
   "execution_count": 7,
   "id": "7d29b838",
   "metadata": {},
   "outputs": [
    {
     "data": {
      "text/plain": [
       "array([ 0,  5, 10, 15, 20, 25, 30, 35, 40, 45])"
      ]
     },
     "execution_count": 7,
     "metadata": {},
     "output_type": "execute_result"
    }
   ],
   "source": [
    "arr3"
   ]
  },
  {
   "cell_type": "code",
   "execution_count": 9,
   "id": "6d3ae425",
   "metadata": {},
   "outputs": [
    {
     "data": {
      "text/plain": [
       "(10,)"
      ]
     },
     "execution_count": 9,
     "metadata": {},
     "output_type": "execute_result"
    }
   ],
   "source": [
    "#formato do array\n",
    "nupy.shape(arr3)"
   ]
  },
  {
   "cell_type": "code",
   "execution_count": 23,
   "id": "b9078fdc",
   "metadata": {},
   "outputs": [
    {
     "name": "stdout",
     "output_type": "stream",
     "text": [
      "[[0 1]\n",
      " [2 3]\n",
      " [4 5]]\n"
     ]
    }
   ],
   "source": [
    "#redimensionado um array \n",
    "a = nupy.arange(6).reshape((3,2))\n",
    "print(a)"
   ]
  },
  {
   "cell_type": "code",
   "execution_count": 13,
   "id": "0097d8ec",
   "metadata": {},
   "outputs": [],
   "source": [
    "#cria um array preenchido por zeros\n",
    "arr4 = nupy.zeros(10)"
   ]
  },
  {
   "cell_type": "code",
   "execution_count": 11,
   "id": "e5d4acf0",
   "metadata": {},
   "outputs": [
    {
     "data": {
      "text/plain": [
       "array([0., 0., 0., 0., 0., 0., 0., 0., 0., 0.])"
      ]
     },
     "execution_count": 11,
     "metadata": {},
     "output_type": "execute_result"
    }
   ],
   "source": [
    "arr4"
   ]
  },
  {
   "cell_type": "code",
   "execution_count": 25,
   "id": "0d1170eb",
   "metadata": {},
   "outputs": [
    {
     "name": "stdout",
     "output_type": "stream",
     "text": [
      "[1. 1. 1. 1. 1.]\n"
     ]
    }
   ],
   "source": [
    "#cria um array preenchido por um's\n",
    "b = nupy.ones(5)\n",
    "print(b)"
   ]
  },
  {
   "cell_type": "code",
   "execution_count": 26,
   "id": "c270a5c0",
   "metadata": {},
   "outputs": [
    {
     "name": "stdout",
     "output_type": "stream",
     "text": [
      "[0.13858392 0.27978624 0.97164211 0.07571876 0.52278292]\n"
     ]
    }
   ],
   "source": [
    "#cria um array com valores aleatorios\n",
    "random_array = nupy.random.random((5))\n",
    "print(random_array)"
   ]
  },
  {
   "cell_type": "code",
   "execution_count": 15,
   "id": "9ccb53fd",
   "metadata": {},
   "outputs": [
    {
     "name": "stdout",
     "output_type": "stream",
     "text": [
      "[[1. 0. 0.]\n",
      " [0. 1. 0.]\n",
      " [0. 0. 1.]]\n"
     ]
    }
   ],
   "source": [
    "#a função eye retona 1 nas diagonais e 0 nas restantes \n",
    "arr5 = nupy.eye(3)\n",
    "print(arr5)"
   ]
  },
  {
   "cell_type": "code",
   "execution_count": 27,
   "id": "aab87fc7",
   "metadata": {},
   "outputs": [
    {
     "name": "stdout",
     "output_type": "stream",
     "text": [
      "[[8. 4. 6. 4.]\n",
      " [2. 7. 5. 3.]\n",
      " [6. 2. 9. 3.]]\n"
     ]
    }
   ],
   "source": [
    "#criando uma matriz com números aleatorios \n",
    "d = nupy.floor(10*nupy.random.random((3,4)))#o parametro significa 3 linhas e 4 elementos em cada linha\n",
    "print(d)"
   ]
  },
  {
   "cell_type": "code",
   "execution_count": 16,
   "id": "a4995a88",
   "metadata": {},
   "outputs": [
    {
     "name": "stdout",
     "output_type": "stream",
     "text": [
      "[[1 0 0 0]\n",
      " [0 2 0 0]\n",
      " [0 0 3 0]\n",
      " [0 0 0 4]]\n"
     ]
    }
   ],
   "source": [
    "#criando uma matriz com valores de um array\n",
    "arr6 = nupy.diag(nupy.array([1,2,3,4]))\n",
    "print(arr6)"
   ]
  },
  {
   "cell_type": "code",
   "execution_count": 18,
   "id": "1cc9fc39",
   "metadata": {},
   "outputs": [
    {
     "name": "stdout",
     "output_type": "stream",
     "text": [
      "[ True False False  True]\n"
     ]
    }
   ],
   "source": [
    "#array com valores booleanos\n",
    "arr7 = nupy.array([True,False,False,True])\n",
    "print(arr7)"
   ]
  },
  {
   "cell_type": "code",
   "execution_count": 20,
   "id": "463c159c",
   "metadata": {},
   "outputs": [
    {
     "name": "stdout",
     "output_type": "stream",
     "text": [
      "['Python' 'R' 'Julia']\n"
     ]
    }
   ],
   "source": [
    "#array de strings\n",
    "\n",
    "arr8 = nupy.array(['Python','R','Julia'])\n",
    "print(arr8)"
   ]
  },
  {
   "cell_type": "code",
   "execution_count": 21,
   "id": "f924500d",
   "metadata": {},
   "outputs": [
    {
     "name": "stdout",
     "output_type": "stream",
     "text": [
      "[ 0.          0.20408163  0.40816327  0.6122449   0.81632653  1.02040816\n",
      "  1.2244898   1.42857143  1.63265306  1.83673469  2.04081633  2.24489796\n",
      "  2.44897959  2.65306122  2.85714286  3.06122449  3.26530612  3.46938776\n",
      "  3.67346939  3.87755102  4.08163265  4.28571429  4.48979592  4.69387755\n",
      "  4.89795918  5.10204082  5.30612245  5.51020408  5.71428571  5.91836735\n",
      "  6.12244898  6.32653061  6.53061224  6.73469388  6.93877551  7.14285714\n",
      "  7.34693878  7.55102041  7.75510204  7.95918367  8.16326531  8.36734694\n",
      "  8.57142857  8.7755102   8.97959184  9.18367347  9.3877551   9.59183673\n",
      "  9.79591837 10.        ]\n"
     ]
    }
   ],
   "source": [
    "#FUNÇÃO LINSPACE()\n",
    "#é usada para criar uma serquencia de números igualmente espaçados dentro de um intervalo especifico. É uma funçao\n",
    "#amplamente usada em programação cientifica e matematica para gerar arrays de números para devidos fins, como graficos,\n",
    "#calculos e simulções.\n",
    "#O metodo linspace() RETORNA um numero de valores igualmente distribuidos no intervalo especifico \n",
    "\n",
    "print(nupy.linspace(0,10))"
   ]
  },
  {
   "cell_type": "code",
   "execution_count": 22,
   "id": "1fe599db",
   "metadata": {},
   "outputs": [
    {
     "name": "stdout",
     "output_type": "stream",
     "text": [
      "[1.00000000e+00 3.59381366e+00 1.29154967e+01 4.64158883e+01\n",
      " 1.66810054e+02 5.99484250e+02 2.15443469e+03 7.74263683e+03\n",
      " 2.78255940e+04 1.00000000e+05]\n"
     ]
    }
   ],
   "source": [
    "#FUNÇÃO LOGSPACE()\n",
    "#é usada para criar uma sequencia de números igualmente espaçados em escala logaritma dentro de um intervalo especifico\n",
    "#essa função é amplamente usada para gerar arrays de numeros para diversos fins como graficos, calculos e simulações.\n",
    "\n",
    "print(nupy.logspace(0,5,10))"
   ]
  }
 ],
 "metadata": {
  "kernelspec": {
   "display_name": "Python 3 (ipykernel)",
   "language": "python",
   "name": "python3"
  },
  "language_info": {
   "codemirror_mode": {
    "name": "ipython",
    "version": 3
   },
   "file_extension": ".py",
   "mimetype": "text/x-python",
   "name": "python",
   "nbconvert_exporter": "python",
   "pygments_lexer": "ipython3",
   "version": "3.9.13"
  }
 },
 "nbformat": 4,
 "nbformat_minor": 5
}
