{
 "cells": [
  {
   "cell_type": "code",
   "execution_count": 1,
   "id": "8892637b",
   "metadata": {},
   "outputs": [
    {
     "name": "stdout",
     "output_type": "stream",
     "text": [
      "Operação inválida\n"
     ]
    }
   ],
   "source": [
    "#utilizando try e exept\n",
    "\n",
    "try:\n",
    "    8+'a'\n",
    "except TypeError:\n",
    "    print('Operação inválida')"
   ]
  },
  {
   "cell_type": "code",
   "execution_count": 4,
   "id": "d292d6cd",
   "metadata": {},
   "outputs": [
    {
     "name": "stdout",
     "output_type": "stream",
     "text": [
      "erro\n"
     ]
    }
   ],
   "source": [
    "#Utilizando try,except e else\n",
    "\n",
    "try:\n",
    "    f = open('arquivo.txt','w')\n",
    "    f.write('Gravando no arquivo')\n",
    "except IOError:\n",
    "    print('erro')\n",
    "else:\n",
    "    print('Arquivo gravado com sucesso')\n",
    "    f.close()"
   ]
  },
  {
   "cell_type": "code",
   "execution_count": 5,
   "id": "2ef70422",
   "metadata": {},
   "outputs": [
    {
     "name": "stdout",
     "output_type": "stream",
     "text": [
      "Arquivo gravado com sucesso\n",
      "comandos do bloco fanally são sempre executados\n"
     ]
    }
   ],
   "source": [
    "#Utilizando, try,except,else,finaly\n",
    "\n",
    "try:\n",
    "    f = open('arquivo.txt','w')\n",
    "    f.write('Gravando com sucesso')\n",
    "except IOError:\n",
    "    print('Error arquivo não encontrado')\n",
    "else:\n",
    "    print('Arquivo gravado com sucesso')\n",
    "finally:\n",
    "    print('comandos do bloco fanally são sempre executados')\n",
    "        "
   ]
  },
  {
   "cell_type": "code",
   "execution_count": null,
   "id": "5acf43b3",
   "metadata": {},
   "outputs": [],
   "source": []
  }
 ],
 "metadata": {
  "kernelspec": {
   "display_name": "Python 3 (ipykernel)",
   "language": "python",
   "name": "python3"
  },
  "language_info": {
   "codemirror_mode": {
    "name": "ipython",
    "version": 3
   },
   "file_extension": ".py",
   "mimetype": "text/x-python",
   "name": "python",
   "nbconvert_exporter": "python",
   "pygments_lexer": "ipython3",
   "version": "3.9.13"
  }
 },
 "nbformat": 4,
 "nbformat_minor": 5
}
