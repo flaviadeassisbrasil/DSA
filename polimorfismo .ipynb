{
 "cells": [
  {
   "cell_type": "code",
   "execution_count": 1,
   "id": "bebb10ff",
   "metadata": {},
   "outputs": [],
   "source": [
    "#super classe\n",
    "\n",
    "class Veiculo():\n",
    "    def __init__(self,marca,modelo):\n",
    "        self.marca = marca\n",
    "        self.modelo = modelo\n",
    "        \n",
    "    def acelarar(self):\n",
    "        pass\n",
    "    def freiar(self):\n",
    "        pass"
   ]
  },
  {
   "cell_type": "code",
   "execution_count": 2,
   "id": "b52589ce",
   "metadata": {},
   "outputs": [],
   "source": [
    "#sub classe \n",
    "\n",
    "class Carro(Veiculo):\n",
    "    def acelerar(self):\n",
    "        print('O carro está acelerando')\n",
    "        \n",
    "    def freiar(self):\n",
    "        print('O carro está freiando')"
   ]
  },
  {
   "cell_type": "code",
   "execution_count": 3,
   "id": "35c95b8d",
   "metadata": {},
   "outputs": [],
   "source": [
    "#sub classe \n",
    "\n",
    "class Moto(Veiculo):\n",
    "    def acelerar(self):\n",
    "        print('A moto esta acelerando')\n",
    "    def freiar(self):\n",
    "        print('a moto esta freiando')"
   ]
  },
  {
   "cell_type": "code",
   "execution_count": 10,
   "id": "63844fd2",
   "metadata": {},
   "outputs": [],
   "source": [
    "#sub classe\n",
    "\n",
    "class Aviao(Veiculo):\n",
    "    def acelerar(self):\n",
    "        print('O Avião está acelerando')\n",
    "    def freiar(self):\n",
    "        print('O Avião está freiando')\n",
    "    def decolar(self):\n",
    "        print('O Avião está decolando')"
   ]
  },
  {
   "cell_type": "code",
   "execution_count": 11,
   "id": "c6cbb9dc",
   "metadata": {},
   "outputs": [],
   "source": [
    "#lista criando os objetos \n",
    "\n",
    "lista_veiculos =[Carro('Porsche','911 Turbo'),Moto('Honda','CB'), Aviao('Boeing','755')]"
   ]
  },
  {
   "cell_type": "code",
   "execution_count": 12,
   "id": "5ca06dbd",
   "metadata": {},
   "outputs": [
    {
     "name": "stdout",
     "output_type": "stream",
     "text": [
      "O carro está acelerando\n",
      "O carro está freiando\n",
      "----\n",
      "A moto esta acelerando\n",
      "a moto esta freiando\n",
      "----\n",
      "O Avião está acelerando\n",
      "O Avião está freiando\n",
      "O Avião está decolando\n",
      "----\n"
     ]
    }
   ],
   "source": [
    "for item in lista_veiculos:\n",
    "    item.acelerar()\n",
    "    item.freiar()\n",
    "    if isinstance(item,Aviao):#\n",
    "        item.decolar()\n",
    "        \n",
    "    print('----')    "
   ]
  },
  {
   "cell_type": "code",
   "execution_count": null,
   "id": "7dadc7ee",
   "metadata": {},
   "outputs": [],
   "source": []
  }
 ],
 "metadata": {
  "kernelspec": {
   "display_name": "Python 3 (ipykernel)",
   "language": "python",
   "name": "python3"
  },
  "language_info": {
   "codemirror_mode": {
    "name": "ipython",
    "version": 3
   },
   "file_extension": ".py",
   "mimetype": "text/x-python",
   "name": "python",
   "nbconvert_exporter": "python",
   "pygments_lexer": "ipython3",
   "version": "3.9.13"
  }
 },
 "nbformat": 4,
 "nbformat_minor": 5
}
