{
 "cells": [
  {
   "cell_type": "code",
   "execution_count": 1,
   "id": "71d79a9a",
   "metadata": {},
   "outputs": [
    {
     "name": "stdout",
     "output_type": "stream",
     "text": [
      "[1 2 3 4 5 6 7 8 9]\n"
     ]
    }
   ],
   "source": [
    "import numpy as ny\n",
    "\n",
    "arr15 = ny.arange(1,10)\n",
    "print(arr15)"
   ]
  },
  {
   "cell_type": "code",
   "execution_count": 2,
   "id": "fa52bd25",
   "metadata": {},
   "outputs": [
    {
     "data": {
      "text/plain": [
       "45"
      ]
     },
     "execution_count": 2,
     "metadata": {},
     "output_type": "execute_result"
    }
   ],
   "source": [
    "#soma dos elementos do array\n",
    "ny.sum(arr15)"
   ]
  },
  {
   "cell_type": "code",
   "execution_count": 3,
   "id": "2b516c99",
   "metadata": {},
   "outputs": [
    {
     "data": {
      "text/plain": [
       "362880"
      ]
     },
     "execution_count": 3,
     "metadata": {},
     "output_type": "execute_result"
    }
   ],
   "source": [
    "#produto dos elementos \n",
    "ny.prod(arr15)"
   ]
  },
  {
   "cell_type": "code",
   "execution_count": 4,
   "id": "324e21fb",
   "metadata": {},
   "outputs": [
    {
     "data": {
      "text/plain": [
       "array([ 1,  3,  6, 10, 15, 21, 28, 36, 45], dtype=int32)"
      ]
     },
     "execution_count": 4,
     "metadata": {},
     "output_type": "execute_result"
    }
   ],
   "source": [
    "#soam acumulada dos elementos \n",
    "ny.cumsum(arr15)"
   ]
  },
  {
   "cell_type": "code",
   "execution_count": 5,
   "id": "5c5feb02",
   "metadata": {},
   "outputs": [],
   "source": [
    "#criar dois arrays\n",
    "arr16 = ny.array([3,2,1])\n",
    "arr17 = ny.array([1,2,3])"
   ]
  },
  {
   "cell_type": "code",
   "execution_count": 6,
   "id": "2b40dde9",
   "metadata": {},
   "outputs": [
    {
     "name": "stdout",
     "output_type": "stream",
     "text": [
      "[4 4 4]\n"
     ]
    }
   ],
   "source": [
    "#soma dos dois arrays\n",
    "arr18 = ny.add(arr16,arr17)\n",
    "print(arr18)"
   ]
  },
  {
   "cell_type": "markdown",
   "id": "b9d27369",
   "metadata": {},
   "source": [
    "MULTIPLICAÇÃO DE MATRIZES!!!! ATENCIONNNNNNNNN"
   ]
  },
  {
   "cell_type": "code",
   "execution_count": 7,
   "id": "a124bd8d",
   "metadata": {},
   "outputs": [],
   "source": [
    "#criando duas matrizes \n",
    "\n",
    "matriz_1 = ny.array([[1,2],[4,4]])\n",
    "matriz_2 = ny.array([[5,6],[0,7]])"
   ]
  },
  {
   "cell_type": "code",
   "execution_count": 8,
   "id": "ffe3ae77",
   "metadata": {},
   "outputs": [
    {
     "data": {
      "text/plain": [
       "(2, 2)"
      ]
     },
     "execution_count": 8,
     "metadata": {},
     "output_type": "execute_result"
    }
   ],
   "source": [
    "matriz_1.shape"
   ]
  },
  {
   "cell_type": "code",
   "execution_count": 9,
   "id": "d33bbb3e",
   "metadata": {},
   "outputs": [
    {
     "data": {
      "text/plain": [
       "(2, 2)"
      ]
     },
     "execution_count": 9,
     "metadata": {},
     "output_type": "execute_result"
    }
   ],
   "source": [
    "matriz_2.shape"
   ]
  },
  {
   "cell_type": "code",
   "execution_count": 10,
   "id": "04fb706e",
   "metadata": {},
   "outputs": [
    {
     "name": "stdout",
     "output_type": "stream",
     "text": [
      "[[ 5 20]\n",
      " [20 52]]\n"
     ]
    }
   ],
   "source": [
    "#multiplicação de matrizes \n",
    "#para multiplicar duas matrizes podemos usar a função dot() ou @.MUITO IMPORTANTE LEMBRAR que para a multiplicação\n",
    "#de matrizes acontecer o número de linhas e de colunas deve ser IGUAL\n",
    "\n",
    "matriz_mult = ny.dot(matriz_1,matriz_2)#a ordem dos arrays importa por conta da regra de o numero de colunas e linhas serem =\n",
    "print(matriz_mult)"
   ]
  },
  {
   "cell_type": "markdown",
   "id": "880a4ba6",
   "metadata": {},
   "source": [
    "SLICING(FATIAMENTO)"
   ]
  },
  {
   "cell_type": "code",
   "execution_count": 12,
   "id": "be5dfe37",
   "metadata": {},
   "outputs": [],
   "source": [
    "a = ny.array([1,2,3,4])\n",
    "b = ny.array([4,2,2,4])\n"
   ]
  },
  {
   "cell_type": "code",
   "execution_count": 13,
   "id": "91d1a8aa",
   "metadata": {},
   "outputs": [
    {
     "data": {
      "text/plain": [
       "array([False,  True, False,  True])"
      ]
     },
     "execution_count": 13,
     "metadata": {},
     "output_type": "execute_result"
    }
   ],
   "source": [
    "#comparação de item a intem\n",
    "\n",
    "a == b"
   ]
  },
  {
   "cell_type": "code",
   "execution_count": 14,
   "id": "8223ba6f",
   "metadata": {},
   "outputs": [
    {
     "data": {
      "text/plain": [
       "False"
      ]
     },
     "execution_count": 14,
     "metadata": {},
     "output_type": "execute_result"
    }
   ],
   "source": [
    "#comparação global\n",
    "\n",
    "ny.array_equal(a,b)"
   ]
  },
  {
   "cell_type": "code",
   "execution_count": 15,
   "id": "c1dbf156",
   "metadata": {},
   "outputs": [
    {
     "data": {
      "text/plain": [
       "2"
      ]
     },
     "execution_count": 15,
     "metadata": {},
     "output_type": "execute_result"
    }
   ],
   "source": [
    "#valor minimo \n",
    "b.min()"
   ]
  },
  {
   "cell_type": "code",
   "execution_count": 16,
   "id": "daf90e22",
   "metadata": {},
   "outputs": [
    {
     "data": {
      "text/plain": [
       "4"
      ]
     },
     "execution_count": 16,
     "metadata": {},
     "output_type": "execute_result"
    }
   ],
   "source": [
    "#valor maximo\n",
    "a.max()"
   ]
  },
  {
   "cell_type": "code",
   "execution_count": 18,
   "id": "64383971",
   "metadata": {},
   "outputs": [
    {
     "name": "stdout",
     "output_type": "stream",
     "text": [
      "[3 4 5 7 8 9]\n"
     ]
    }
   ],
   "source": [
    "#somando um valor a cada elemento do array\n",
    "\n",
    "c = ny.array([1,2,3,5,6,7])+2\n",
    "print(c)"
   ]
  },
  {
   "cell_type": "code",
   "execution_count": 19,
   "id": "88bd5bad",
   "metadata": {},
   "outputs": [
    {
     "name": "stdout",
     "output_type": "stream",
     "text": [
      "[[1 2 3 4]\n",
      " [5 6 7 8]]\n"
     ]
    }
   ],
   "source": [
    "matriz_5 = ny.array([[1,2,3,4],[5,6,7,8]])\n",
    "print(matriz_5)"
   ]
  },
  {
   "cell_type": "markdown",
   "id": "2d46e4e5",
   "metadata": {},
   "source": [
    "O metodo flatten() com numpy é usado para criar uma copia unidimensional ou achatada da matriz. Isso quer dizer que o método cria um novo array unidimensional, que contém todos os elementos do array original mas que estará organizado em uma unica linha.A nova ordem segue a ordem do array antigo"
   ]
  },
  {
   "cell_type": "code",
   "execution_count": 21,
   "id": "2a41348a",
   "metadata": {},
   "outputs": [
    {
     "name": "stdout",
     "output_type": "stream",
     "text": [
      "[1 2 3 4 5 6 7 8]\n"
     ]
    }
   ],
   "source": [
    "achat = matriz_5.flatten()\n",
    "print(achat)"
   ]
  },
  {
   "cell_type": "code",
   "execution_count": 22,
   "id": "b9e32b07",
   "metadata": {},
   "outputs": [],
   "source": [
    "g = ny.array([1,2,3])"
   ]
  },
  {
   "cell_type": "code",
   "execution_count": 23,
   "id": "892ddab3",
   "metadata": {},
   "outputs": [
    {
     "data": {
      "text/plain": [
       "array([1, 1, 1, 2, 2, 2, 3, 3, 3])"
      ]
     },
     "execution_count": 23,
     "metadata": {},
     "output_type": "execute_result"
    }
   ],
   "source": [
    "#repetindo elementos do array\n",
    "ny.repeat(g,3)"
   ]
  },
  {
   "cell_type": "code",
   "execution_count": 24,
   "id": "d38e7212",
   "metadata": {},
   "outputs": [
    {
     "data": {
      "text/plain": [
       "array([1, 2, 3, 1, 2, 3, 1, 2, 3])"
      ]
     },
     "execution_count": 24,
     "metadata": {},
     "output_type": "execute_result"
    }
   ],
   "source": [
    "#repetindo os elementos do array \n",
    "ny.tile(g, 3)"
   ]
  },
  {
   "cell_type": "code",
   "execution_count": null,
   "id": "3737db92",
   "metadata": {},
   "outputs": [],
   "source": []
  }
 ],
 "metadata": {
  "kernelspec": {
   "display_name": "Python 3 (ipykernel)",
   "language": "python",
   "name": "python3"
  },
  "language_info": {
   "codemirror_mode": {
    "name": "ipython",
    "version": 3
   },
   "file_extension": ".py",
   "mimetype": "text/x-python",
   "name": "python",
   "nbconvert_exporter": "python",
   "pygments_lexer": "ipython3",
   "version": "3.9.13"
  }
 },
 "nbformat": 4,
 "nbformat_minor": 5
}
