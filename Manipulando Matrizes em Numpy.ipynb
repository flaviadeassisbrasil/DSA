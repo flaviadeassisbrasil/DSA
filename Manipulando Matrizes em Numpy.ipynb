{
 "cells": [
  {
   "cell_type": "code",
   "execution_count": 3,
   "id": "149d3138",
   "metadata": {},
   "outputs": [],
   "source": [
    "import numpy as ny"
   ]
  },
  {
   "cell_type": "code",
   "execution_count": 4,
   "id": "0ffb243f",
   "metadata": {},
   "outputs": [
    {
     "name": "stdout",
     "output_type": "stream",
     "text": [
      "[[1 2 3]\n",
      " [4 5 6]]\n"
     ]
    }
   ],
   "source": [
    "#criando uma matriz\n",
    "matriz1 = ny.array([[1,2,3],[4,5,6]])\n",
    "print(matriz1)"
   ]
  },
  {
   "cell_type": "code",
   "execution_count": 5,
   "id": "e6fa2a56",
   "metadata": {},
   "outputs": [
    {
     "name": "stdout",
     "output_type": "stream",
     "text": [
      "(2, 3)\n"
     ]
    }
   ],
   "source": [
    "print(matriz1.shape)"
   ]
  },
  {
   "cell_type": "code",
   "execution_count": 6,
   "id": "a461043d",
   "metadata": {},
   "outputs": [
    {
     "name": "stdout",
     "output_type": "stream",
     "text": [
      "[[1. 1. 1.]\n",
      " [1. 1. 1.]]\n"
     ]
    }
   ],
   "source": [
    "#criando uma matriz 2x3 apenas com numeros 1\n",
    "matriz2 = ny.ones((2,3))\n",
    "print(matriz2)"
   ]
  },
  {
   "cell_type": "code",
   "execution_count": 7,
   "id": "4b1fce8d",
   "metadata": {},
   "outputs": [
    {
     "name": "stdout",
     "output_type": "stream",
     "text": [
      "[[13 81 22]\n",
      " [ 0 34 59]\n",
      " [21 48 94]]\n"
     ]
    }
   ],
   "source": [
    "#lista de lista\n",
    "lista = [[13,81,22],[0,34,59],[21,48,94]]\n",
    "arr = ny.matrix(lista)\n",
    "print(arr)"
   ]
  },
  {
   "cell_type": "code",
   "execution_count": 8,
   "id": "8c19cf66",
   "metadata": {},
   "outputs": [
    {
     "data": {
      "text/plain": [
       "48"
      ]
     },
     "execution_count": 8,
     "metadata": {},
     "output_type": "execute_result"
    }
   ],
   "source": [
    "#indexção duas dimensões \n",
    "\n",
    "arr[2,1]#primeiro coluna e depois linha"
   ]
  },
  {
   "cell_type": "code",
   "execution_count": 9,
   "id": "ca7006c9",
   "metadata": {},
   "outputs": [
    {
     "data": {
      "text/plain": [
       "matrix([[22],\n",
       "        [59]])"
      ]
     },
     "execution_count": 9,
     "metadata": {},
     "output_type": "execute_result"
    }
   ],
   "source": [
    "#range de linhas \n",
    "arr[0:2,2]"
   ]
  },
  {
   "cell_type": "code",
   "execution_count": 10,
   "id": "fe13d4ed",
   "metadata": {},
   "outputs": [
    {
     "data": {
      "text/plain": [
       "matrix([[ 0, 34, 59]])"
      ]
     },
     "execution_count": 10,
     "metadata": {},
     "output_type": "execute_result"
    }
   ],
   "source": [
    "# intervalo da coluna 1, ou seja, coluna 1 e todos seus elementos \n",
    "arr[1,]"
   ]
  },
  {
   "cell_type": "code",
   "execution_count": 12,
   "id": "5d9e59f3",
   "metadata": {},
   "outputs": [
    {
     "name": "stdout",
     "output_type": "stream",
     "text": [
      "[[ 13  81  22]\n",
      " [100  34  59]\n",
      " [ 21  48  94]]\n"
     ]
    }
   ],
   "source": [
    "#alterando um elemento da matriza \n",
    "arr [1,0]=100\n",
    "print(arr)"
   ]
  },
  {
   "cell_type": "code",
   "execution_count": 13,
   "id": "2bd66e89",
   "metadata": {},
   "outputs": [
    {
     "name": "stdout",
     "output_type": "stream",
     "text": [
      "[1 2] [1. 2.] [1. 2.]\n"
     ]
    }
   ],
   "source": [
    "#fazendo tipagem \n",
    "x = ny.array([1,2]) #numpy decide o tipo de dados\n",
    "y = ny.array([1.0,2.0]) #numpy decide o tipo de dados\n",
    "z = ny.array([1,2],dtype = ny.float64) # Forçãmos um tipo de dado em particular \n",
    "\n",
    "print(x,y,z)"
   ]
  },
  {
   "cell_type": "code",
   "execution_count": 15,
   "id": "4bb9cdb2",
   "metadata": {},
   "outputs": [
    {
     "data": {
      "text/plain": [
       "4"
      ]
     },
     "execution_count": 15,
     "metadata": {},
     "output_type": "execute_result"
    }
   ],
   "source": [
    "# itemsize de um array numpy é o tamanho em bytes de cada elemento array\n",
    "\n",
    "arr.itemsize"
   ]
  },
  {
   "cell_type": "code",
   "execution_count": 16,
   "id": "60be9043",
   "metadata": {},
   "outputs": [
    {
     "data": {
      "text/plain": [
       "36"
      ]
     },
     "execution_count": 16,
     "metadata": {},
     "output_type": "execute_result"
    }
   ],
   "source": [
    "arr.nbytes #numero de bytes"
   ]
  },
  {
   "cell_type": "code",
   "execution_count": 17,
   "id": "cbf148a1",
   "metadata": {},
   "outputs": [
    {
     "data": {
      "text/plain": [
       "2"
      ]
     },
     "execution_count": 17,
     "metadata": {},
     "output_type": "execute_result"
    }
   ],
   "source": [
    "arr.ndim"
   ]
  },
  {
   "cell_type": "code",
   "execution_count": null,
   "id": "a3729fa6",
   "metadata": {},
   "outputs": [],
   "source": []
  }
 ],
 "metadata": {
  "kernelspec": {
   "display_name": "Python 3 (ipykernel)",
   "language": "python",
   "name": "python3"
  },
  "language_info": {
   "codemirror_mode": {
    "name": "ipython",
    "version": 3
   },
   "file_extension": ".py",
   "mimetype": "text/x-python",
   "name": "python",
   "nbconvert_exporter": "python",
   "pygments_lexer": "ipython3",
   "version": "3.9.13"
  }
 },
 "nbformat": 4,
 "nbformat_minor": 5
}
