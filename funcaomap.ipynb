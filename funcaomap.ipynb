{
 "cells": [
  {
   "cell_type": "code",
   "execution_count": null,
   "id": "ce7b90f9",
   "metadata": {},
   "outputs": [],
   "source": [
    "#FUNÇÃO MAP\n",
    "#A função map é uma função que aplica determinada função a cada elemento de uma estrutura de dados iterável(como uma lista,\n",
    "#tupla, ou outro objeto) A função map() RETORNA um objeto que pode ser convertido em outra estrutura de dados, como uma lista\n",
    "#se necessário"
   ]
  },
  {
   "cell_type": "code",
   "execution_count": 3,
   "id": "999b3c78",
   "metadata": {},
   "outputs": [],
   "source": [
    "#Função que retorna uma potencia\n",
    "def potencia(x):\n",
    "    return x**2"
   ]
  },
  {
   "cell_type": "code",
   "execution_count": 4,
   "id": "86578953",
   "metadata": {},
   "outputs": [
    {
     "name": "stdout",
     "output_type": "stream",
     "text": [
      "[1, 4, 9, 16, 25, 36, 49]\n"
     ]
    }
   ],
   "source": [
    "numeros = [1,2,3,4,5,6,7]\n",
    "numeros_ao_quadrado = list(map(potencia, numeros))\n",
    "print(numeros_ao_quadrado)"
   ]
  },
  {
   "cell_type": "code",
   "execution_count": 6,
   "id": "6ab7d6f0",
   "metadata": {},
   "outputs": [],
   "source": [
    "#criando duas funções\n",
    "\n",
    "def fahrenheit(T):\n",
    "    return(float(9/(5)+T+32))\n",
    "\n",
    "def celcius(T):\n",
    "    return(float(5)/(9)*(T-32))"
   ]
  },
  {
   "cell_type": "code",
   "execution_count": 7,
   "id": "e60f01bb",
   "metadata": {},
   "outputs": [],
   "source": [
    "temperaturas = [0, 22.5, 40, 100 ]"
   ]
  },
  {
   "cell_type": "code",
   "execution_count": 8,
   "id": "c6f64615",
   "metadata": {},
   "outputs": [
    {
     "data": {
      "text/plain": [
       "<map at 0x29aae6c92b0>"
      ]
     },
     "execution_count": 8,
     "metadata": {},
     "output_type": "execute_result"
    }
   ],
   "source": [
    "#aplicando a função map \n",
    "map(fahrenheit, temperaturas)"
   ]
  },
  {
   "cell_type": "code",
   "execution_count": 9,
   "id": "eb624c01",
   "metadata": {},
   "outputs": [
    {
     "data": {
      "text/plain": [
       "[33.8, 56.3, 73.8, 133.8]"
      ]
     },
     "execution_count": 9,
     "metadata": {},
     "output_type": "execute_result"
    }
   ],
   "source": [
    "list(map(fahrenheit,temperaturas))"
   ]
  },
  {
   "cell_type": "code",
   "execution_count": 10,
   "id": "a5038e4f",
   "metadata": {},
   "outputs": [
    {
     "data": {
      "text/plain": [
       "[-17.77777777777778, -5.277777777777778, 4.444444444444445, 37.77777777777778]"
      ]
     },
     "execution_count": 10,
     "metadata": {},
     "output_type": "execute_result"
    }
   ],
   "source": [
    "list(map(celcius,temperaturas))"
   ]
  },
  {
   "cell_type": "code",
   "execution_count": 14,
   "id": "cf7a0cba",
   "metadata": {},
   "outputs": [
    {
     "data": {
      "text/plain": [
       "<map at 0x29aae6c9c40>"
      ]
     },
     "execution_count": 14,
     "metadata": {},
     "output_type": "execute_result"
    }
   ],
   "source": [
    "#usando map com a função lambda\n",
    "\n",
    "map(lambda x: (5.0/9)*(x - 32),temperaturas)\n"
   ]
  },
  {
   "cell_type": "code",
   "execution_count": 16,
   "id": "d79255d3",
   "metadata": {},
   "outputs": [
    {
     "data": {
      "text/plain": [
       "[-17.77777777777778, -5.277777777777778, 4.444444444444445, 37.77777777777778]"
      ]
     },
     "execution_count": 16,
     "metadata": {},
     "output_type": "execute_result"
    }
   ],
   "source": [
    "list(map(lambda x: (5.0/9)*(x-32), temperaturas))"
   ]
  },
  {
   "cell_type": "code",
   "execution_count": null,
   "id": "7787b355",
   "metadata": {},
   "outputs": [],
   "source": []
  }
 ],
 "metadata": {
  "kernelspec": {
   "display_name": "Python 3 (ipykernel)",
   "language": "python",
   "name": "python3"
  },
  "language_info": {
   "codemirror_mode": {
    "name": "ipython",
    "version": 3
   },
   "file_extension": ".py",
   "mimetype": "text/x-python",
   "name": "python",
   "nbconvert_exporter": "python",
   "pygments_lexer": "ipython3",
   "version": "3.9.13"
  }
 },
 "nbformat": 4,
 "nbformat_minor": 5
}
