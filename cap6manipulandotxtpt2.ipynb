{
 "cells": [
  {
   "cell_type": "code",
   "execution_count": 1,
   "id": "91935db6",
   "metadata": {},
   "outputs": [],
   "source": [
    "texto = 'Cientista de dados pod eser uma excelente alterntiva de carreira'\n",
    "texto = texto + 'Esses proficionais precisam saber como programar em python'\n",
    "texto += 'E, claro, devem ser proeficientes em Data Science.'"
   ]
  },
  {
   "cell_type": "code",
   "execution_count": 2,
   "id": "13e01b83",
   "metadata": {},
   "outputs": [
    {
     "name": "stdout",
     "output_type": "stream",
     "text": [
      "Cientista de dados pod eser uma excelente alterntiva de carreiraEsses proficionais precisam saber como programar em pythonE, claro, devem ser proeficientes em Data Science.\n"
     ]
    }
   ],
   "source": [
    "print(texto)"
   ]
  },
  {
   "cell_type": "code",
   "execution_count": 7,
   "id": "2f3d94fb",
   "metadata": {},
   "outputs": [],
   "source": [
    "#importando o modulo os\n",
    "import os "
   ]
  },
  {
   "cell_type": "code",
   "execution_count": 8,
   "id": "6b1bbb8f",
   "metadata": {},
   "outputs": [],
   "source": [
    "#criando um arquivo\n",
    "arquivo = open(os.path.join('cientista.txt'),'w')"
   ]
  },
  {
   "cell_type": "code",
   "execution_count": 9,
   "id": "5cef38e7",
   "metadata": {},
   "outputs": [],
   "source": [
    "#gravando os dados no arquivo\n",
    "for palavra in texto.split():\n",
    "    arquivo.write(palavra + ' ')"
   ]
  },
  {
   "cell_type": "code",
   "execution_count": 10,
   "id": "881ed8a0",
   "metadata": {},
   "outputs": [],
   "source": [
    "#fechando o arquivo \n",
    "arquivo.close()"
   ]
  },
  {
   "cell_type": "code",
   "execution_count": 11,
   "id": "27141d94",
   "metadata": {},
   "outputs": [
    {
     "name": "stdout",
     "output_type": "stream",
     "text": [
      "Cientista de dados pod eser uma excelente alterntiva de carreiraEsses proficionais precisam saber como programar em pythonE, claro, devem ser proeficientes em Data Science. \n"
     ]
    }
   ],
   "source": [
    "#lendo o arquivo\n",
    "arquivo = open('cientista.txt', 'r')\n",
    "conteudo = arquivo.read()\n",
    "arquivo.close()\n",
    "\n",
    "print(conteudo)"
   ]
  },
  {
   "cell_type": "markdown",
   "id": "c313b4f4",
   "metadata": {},
   "source": [
    "Usando a expressão WITH\n",
    "com o with o método close é executado automáticamente "
   ]
  },
  {
   "cell_type": "code",
   "execution_count": 1,
   "id": "6eeeca0d",
   "metadata": {},
   "outputs": [],
   "source": [
    "with open('cientista.txt', 'r') as arquivo:\n",
    "    conteudo = arquivo.read()"
   ]
  },
  {
   "cell_type": "code",
   "execution_count": 4,
   "id": "a790dde6",
   "metadata": {},
   "outputs": [
    {
     "name": "stdout",
     "output_type": "stream",
     "text": [
      "Cientista de dados pod eser uma excelente alterntiva de carreiraEsses proficionais precisam saber como programar em pythonE, claro, devem ser proeficientes em Data Science. \n",
      "173\n"
     ]
    }
   ],
   "source": [
    "print(conteudo)\n",
    "print(len(conteudo))"
   ]
  },
  {
   "cell_type": "code",
   "execution_count": null,
   "id": "b21784c8",
   "metadata": {},
   "outputs": [],
   "source": []
  }
 ],
 "metadata": {
  "kernelspec": {
   "display_name": "Python 3 (ipykernel)",
   "language": "python",
   "name": "python3"
  },
  "language_info": {
   "codemirror_mode": {
    "name": "ipython",
    "version": 3
   },
   "file_extension": ".py",
   "mimetype": "text/x-python",
   "name": "python",
   "nbconvert_exporter": "python",
   "pygments_lexer": "ipython3",
   "version": "3.9.13"
  }
 },
 "nbformat": 4,
 "nbformat_minor": 5
}
