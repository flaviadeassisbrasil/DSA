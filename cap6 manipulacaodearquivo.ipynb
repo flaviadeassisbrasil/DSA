{
 "cells": [
  {
   "cell_type": "code",
   "execution_count": 21,
   "id": "772a8aa4",
   "metadata": {},
   "outputs": [],
   "source": [
    "arquivo = open('arquivo.txt','r')"
   ]
  },
  {
   "cell_type": "code",
   "execution_count": 22,
   "id": "52a9e920",
   "metadata": {},
   "outputs": [
    {
     "name": "stdout",
     "output_type": "stream",
     "text": [
      "oiii pessoal da manipulação de arquivos \n"
     ]
    }
   ],
   "source": [
    "#lendo o arquivo\n",
    "print(arquivo.read())"
   ]
  },
  {
   "cell_type": "code",
   "execution_count": 9,
   "id": "d33b7c01",
   "metadata": {},
   "outputs": [
    {
     "name": "stdout",
     "output_type": "stream",
     "text": [
      "40\n"
     ]
    }
   ],
   "source": [
    "#contando o número de caracteres do arquivo\n",
    "print(arquivo.tell())"
   ]
  },
  {
   "cell_type": "code",
   "execution_count": 10,
   "id": "3248e2a6",
   "metadata": {},
   "outputs": [
    {
     "name": "stdout",
     "output_type": "stream",
     "text": [
      "0\n"
     ]
    }
   ],
   "source": [
    "#retornar para o inicio do arquivo \n",
    "print(arquivo.seek(0,0))"
   ]
  },
  {
   "cell_type": "code",
   "execution_count": 11,
   "id": "3ff23d44",
   "metadata": {},
   "outputs": [
    {
     "name": "stdout",
     "output_type": "stream",
     "text": [
      "oiii pessoal da manipul\n"
     ]
    }
   ],
   "source": [
    "#lendo os primeiros 23 caracteres(pode ser o numero que for necessario)\n",
    "print(arquivo.read(23))"
   ]
  },
  {
   "cell_type": "code",
   "execution_count": 29,
   "id": "1c7ecdba",
   "metadata": {},
   "outputs": [
    {
     "data": {
      "text/plain": [
       "8"
      ]
     },
     "execution_count": 29,
     "metadata": {},
     "output_type": "execute_result"
    }
   ],
   "source": [
    "#Gravando em um arquivo txt(read não funciuona em write)\n",
    "#nesse modo vc subscreve o arquivo\n",
    "arquivo2 = open('arquivo2.txt','w')\n",
    "arquivo2.write('sgayusgd')"
   ]
  },
  {
   "cell_type": "code",
   "execution_count": 38,
   "id": "e99bfb8b",
   "metadata": {},
   "outputs": [],
   "source": [
    "#Acrescentando conteudo\n",
    "arquivo2 = open('arquivo2.txt','a')# a de append"
   ]
  },
  {
   "cell_type": "code",
   "execution_count": 39,
   "id": "98d7f6b1",
   "metadata": {},
   "outputs": [
    {
     "data": {
      "text/plain": [
       "13"
      ]
     },
     "execution_count": 39,
     "metadata": {},
     "output_type": "execute_result"
    }
   ],
   "source": [
    "arquivo2.write('  ablublueeee')"
   ]
  },
  {
   "cell_type": "code",
   "execution_count": 40,
   "id": "7b5fa232",
   "metadata": {},
   "outputs": [],
   "source": [
    "arquivo2.close()"
   ]
  },
  {
   "cell_type": "code",
   "execution_count": 41,
   "id": "2311882f",
   "metadata": {},
   "outputs": [
    {
     "name": "stdout",
     "output_type": "stream",
     "text": [
      "sgayusgdablublueeee  ablublueeee\n"
     ]
    }
   ],
   "source": [
    "arquivo4 = open('arquivo2.txt','r')\n",
    "print(arquivo4.read())"
   ]
  },
  {
   "cell_type": "code",
   "execution_count": 57,
   "id": "8059de10",
   "metadata": {},
   "outputs": [
    {
     "name": "stdout",
     "output_type": "stream",
     "text": [
      "Overwriting arquivo.txt\n"
     ]
    }
   ],
   "source": [
    "%%writefile arquivo.txt\n",
    "ola mundo\n",
    "eu finalmente consegui fazer essa funcionalidade funcionar \n",
    "obrigado pela minha baixa capacidade cognitiva\n",
    "\n",
    "\n",
    "\n"
   ]
  },
  {
   "cell_type": "code",
   "execution_count": 58,
   "id": "a2fb127e",
   "metadata": {},
   "outputs": [
    {
     "name": "stdout",
     "output_type": "stream",
     "text": [
      "ola mundo\n",
      "eu finalmente consegui fazer essa funcionalidade funcionar \n",
      "obrigado pela minha baixa capacidade cognitiva\n",
      "\n",
      "\n",
      "\n",
      "\n"
     ]
    }
   ],
   "source": [
    "arquivoo = open('arquivo.txt','r')\n",
    "print(arquivoo.read())"
   ]
  },
  {
   "cell_type": "code",
   "execution_count": 59,
   "id": "e8d1fde8",
   "metadata": {},
   "outputs": [
    {
     "data": {
      "text/plain": [
       "0"
      ]
     },
     "execution_count": 59,
     "metadata": {},
     "output_type": "execute_result"
    }
   ],
   "source": [
    "arquivoo.seek(0)"
   ]
  },
  {
   "cell_type": "code",
   "execution_count": 60,
   "id": "d79e63e1",
   "metadata": {},
   "outputs": [
    {
     "data": {
      "text/plain": [
       "['ola mundo\\n',\n",
       " 'eu finalmente consegui fazer essa funcionalidade funcionar \\n',\n",
       " 'obrigado pela minha baixa capacidade cognitiva\\n',\n",
       " '\\n',\n",
       " '\\n',\n",
       " '\\n']"
      ]
     },
     "execution_count": 60,
     "metadata": {},
     "output_type": "execute_result"
    }
   ],
   "source": [
    "arquivoo.seek(0)\n",
    "arquivoo.readlines()"
   ]
  },
  {
   "cell_type": "code",
   "execution_count": 61,
   "id": "88582f2c",
   "metadata": {},
   "outputs": [
    {
     "name": "stdout",
     "output_type": "stream",
     "text": [
      "ola mundo\n",
      "\n",
      "eu finalmente consegui fazer essa funcionalidade funcionar \n",
      "\n",
      "obrigado pela minha baixa capacidade cognitiva\n",
      "\n",
      "\n",
      "\n",
      "\n",
      "\n",
      "\n",
      "\n"
     ]
    }
   ],
   "source": [
    "for line in open('arquivo.txt'):\n",
    "    print(line)"
   ]
  },
  {
   "cell_type": "code",
   "execution_count": 13,
   "id": "8269edd7",
   "metadata": {},
   "outputs": [],
   "source": [
    "import pandas as pd \n",
    "pd.__version__\n",
    "arquivo = open('dadostab.csv')\n"
   ]
  },
  {
   "cell_type": "code",
   "execution_count": 14,
   "id": "da439efa",
   "metadata": {},
   "outputs": [
    {
     "data": {
      "text/html": [
       "<div>\n",
       "<style scoped>\n",
       "    .dataframe tbody tr th:only-of-type {\n",
       "        vertical-align: middle;\n",
       "    }\n",
       "\n",
       "    .dataframe tbody tr th {\n",
       "        vertical-align: top;\n",
       "    }\n",
       "\n",
       "    .dataframe thead th {\n",
       "        text-align: right;\n",
       "    }\n",
       "</style>\n",
       "<table border=\"1\" class=\"dataframe\">\n",
       "  <thead>\n",
       "    <tr style=\"text-align: right;\">\n",
       "      <th></th>\n",
       "      <th>nome</th>\n",
       "      <th>idade</th>\n",
       "      <th>profissão</th>\n",
       "      <th>salario</th>\n",
       "    </tr>\n",
       "  </thead>\n",
       "  <tbody>\n",
       "    <tr>\n",
       "      <th>0</th>\n",
       "      <td>roberto</td>\n",
       "      <td>37 anos</td>\n",
       "      <td>vet</td>\n",
       "      <td>5.0</td>\n",
       "    </tr>\n",
       "    <tr>\n",
       "      <th>1</th>\n",
       "      <td>joao</td>\n",
       "      <td>40 anos</td>\n",
       "      <td>bancario</td>\n",
       "      <td>8.0</td>\n",
       "    </tr>\n",
       "  </tbody>\n",
       "</table>\n",
       "</div>"
      ],
      "text/plain": [
       "      nome     idade  profissão   salario\n",
       "0  roberto   37 anos        vet       5.0\n",
       "1     joao   40 anos   bancario       8.0"
      ]
     },
     "execution_count": 14,
     "metadata": {},
     "output_type": "execute_result"
    }
   ],
   "source": [
    "df = pd.read_csv(arquivo)\n",
    "df.head()"
   ]
  },
  {
   "cell_type": "code",
   "execution_count": null,
   "id": "6d6948d1",
   "metadata": {},
   "outputs": [],
   "source": []
  }
 ],
 "metadata": {
  "kernelspec": {
   "display_name": "Python 3 (ipykernel)",
   "language": "python",
   "name": "python3"
  },
  "language_info": {
   "codemirror_mode": {
    "name": "ipython",
    "version": 3
   },
   "file_extension": ".py",
   "mimetype": "text/x-python",
   "name": "python",
   "nbconvert_exporter": "python",
   "pygments_lexer": "ipython3",
   "version": "3.9.13"
  }
 },
 "nbformat": 4,
 "nbformat_minor": 5
}
