{
 "cells": [
  {
   "cell_type": "code",
   "execution_count": null,
   "id": "3ba77c2d",
   "metadata": {},
   "outputs": [],
   "source": [
    "#é uma função que agrupa elementos de multiplas estruturas de dados iteráveis(como listas,tuplas) jusntos em pares\n",
    "#a função zip RETORNA um objeto zip, que pode ser convertido em outra estrutura de dados como uma lista ou dicionario, se neces\n",
    "#sario"
   ]
  },
  {
   "cell_type": "code",
   "execution_count": 2,
   "id": "14860569",
   "metadata": {},
   "outputs": [
    {
     "data": {
      "text/plain": [
       "[(2, 6), (3, 7), (4, 8), (5, 9)]"
      ]
     },
     "execution_count": 2,
     "metadata": {},
     "output_type": "execute_result"
    }
   ],
   "source": [
    "x = [2,3,4,5]\n",
    "y = [6,7,8,9]\n",
    "\n",
    "list(zip(x,y))"
   ]
  },
  {
   "cell_type": "code",
   "execution_count": 3,
   "id": "bb2aa426",
   "metadata": {},
   "outputs": [
    {
     "data": {
      "text/plain": [
       "[('A', 'X'), ('B', 'Y')]"
      ]
     },
     "execution_count": 3,
     "metadata": {},
     "output_type": "execute_result"
    }
   ],
   "source": [
    "#atenção quando as sequencias tiverem numeros de elementos diferentes \n",
    "#função zip retorna os pares de acordo com a idexação da lista e descarta o restante \n",
    "list(zip('ABCD','XY'))"
   ]
  },
  {
   "cell_type": "code",
   "execution_count": 6,
   "id": "25529d9b",
   "metadata": {},
   "outputs": [],
   "source": [
    "#zip com dicionarios \n",
    "\n",
    "d1 ={'a': 1, 'b': 2}\n",
    "d2 ={'c': 3, 'd': 4}"
   ]
  },
  {
   "cell_type": "code",
   "execution_count": 7,
   "id": "68c6f12f",
   "metadata": {},
   "outputs": [
    {
     "data": {
      "text/plain": [
       "[('a', 'c'), ('b', 'd')]"
      ]
     },
     "execution_count": 7,
     "metadata": {},
     "output_type": "execute_result"
    }
   ],
   "source": [
    "#zip vai unir as chaves\n",
    "list(zip(d1,d2))"
   ]
  },
  {
   "cell_type": "code",
   "execution_count": 8,
   "id": "aed0779b",
   "metadata": {},
   "outputs": [
    {
     "data": {
      "text/plain": [
       "[('a', 3), ('b', 4)]"
      ]
     },
     "execution_count": 8,
     "metadata": {},
     "output_type": "execute_result"
    }
   ],
   "source": [
    "#para fazer a combinação com os values tem que chamar \n",
    "list(zip(d1,d2.values()))"
   ]
  },
  {
   "cell_type": "code",
   "execution_count": 12,
   "id": "d06a96b2",
   "metadata": {},
   "outputs": [],
   "source": [
    "#criando uma função para trocar os valores do dicionario\n",
    "\n",
    "def trocaValores(d1,d2):\n",
    "    dicTemporario ={}\n",
    "    for d1key, d2val in zip(d1,d2.values()):\n",
    "        dicTemporario[d1key] = d2val\n",
    "    return dicTemporario    "
   ]
  },
  {
   "cell_type": "code",
   "execution_count": 13,
   "id": "7ebe8356",
   "metadata": {},
   "outputs": [
    {
     "data": {
      "text/plain": [
       "{'a': 3, 'b': 4}"
      ]
     },
     "execution_count": 13,
     "metadata": {},
     "output_type": "execute_result"
    }
   ],
   "source": [
    "trocaValores(d1,d2)"
   ]
  },
  {
   "cell_type": "code",
   "execution_count": null,
   "id": "a3c81ae1",
   "metadata": {},
   "outputs": [],
   "source": []
  }
 ],
 "metadata": {
  "kernelspec": {
   "display_name": "Python 3 (ipykernel)",
   "language": "python",
   "name": "python3"
  },
  "language_info": {
   "codemirror_mode": {
    "name": "ipython",
    "version": 3
   },
   "file_extension": ".py",
   "mimetype": "text/x-python",
   "name": "python",
   "nbconvert_exporter": "python",
   "pygments_lexer": "ipython3",
   "version": "3.9.13"
  }
 },
 "nbformat": 4,
 "nbformat_minor": 5
}
