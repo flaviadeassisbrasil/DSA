{
 "cells": [
  {
   "cell_type": "code",
   "execution_count": 6,
   "id": "302f7ca8",
   "metadata": {},
   "outputs": [
    {
     "name": "stdout",
     "output_type": "stream",
     "text": [
      "['Data', 'science', 'academy', 'nota', 10, 10]\n"
     ]
    }
   ],
   "source": [
    "#criando uma lista ]\n",
    "lista = ['Data','science','academy','nota',10,10]\n",
    "print(lista)"
   ]
  },
  {
   "cell_type": "code",
   "execution_count": 2,
   "id": "6e374fe5",
   "metadata": {},
   "outputs": [
    {
     "data": {
      "text/plain": [
       "list"
      ]
     },
     "execution_count": 2,
     "metadata": {},
     "output_type": "execute_result"
    }
   ],
   "source": [
    "#a lista é um objeto, uma instacia de classe lista em python\n",
    "type(lista)"
   ]
  },
  {
   "cell_type": "code",
   "execution_count": 3,
   "id": "55cfc4b4",
   "metadata": {},
   "outputs": [
    {
     "name": "stdout",
     "output_type": "stream",
     "text": [
      "<class 'list'>\n"
     ]
    }
   ],
   "source": [
    "#se vc adicionar abre e fecha colchetes ele cria uma classe para essa lita\n",
    "\n",
    "print(type([]))"
   ]
  },
  {
   "cell_type": "code",
   "execution_count": 7,
   "id": "bd04e711",
   "metadata": {},
   "outputs": [
    {
     "data": {
      "text/plain": [
       "2"
      ]
     },
     "execution_count": 7,
     "metadata": {},
     "output_type": "execute_result"
    }
   ],
   "source": [
    "lista.count(10)"
   ]
  },
  {
   "cell_type": "code",
   "execution_count": 9,
   "id": "4d99687a",
   "metadata": {},
   "outputs": [],
   "source": [
    "#criando um novo tipo de objeto chamado carro\n",
    "class Carro(object):\n",
    "    pass "
   ]
  },
  {
   "cell_type": "code",
   "execution_count": 10,
   "id": "057b56ff",
   "metadata": {},
   "outputs": [
    {
     "name": "stdout",
     "output_type": "stream",
     "text": [
      "<class '__main__.Carro'>\n"
     ]
    }
   ],
   "source": [
    "#instancia carro \n",
    "ferrari = Carro()\n",
    "print(type(ferrari))"
   ]
  },
  {
   "cell_type": "code",
   "execution_count": 15,
   "id": "82719881",
   "metadata": {},
   "outputs": [],
   "source": [
    "#criando uma classe\n",
    "\n",
    "class estudante:\n",
    "    def __init__(self,nome,idade,nota):\n",
    "        self.nome = nome\n",
    "        self.idade = idade\n",
    "        self.nota = nota\n",
    "        \n",
    "        "
   ]
  },
  {
   "cell_type": "code",
   "execution_count": 16,
   "id": "ccda868b",
   "metadata": {},
   "outputs": [],
   "source": [
    "estudante1 = estudante('bob',12,80)"
   ]
  },
  {
   "cell_type": "code",
   "execution_count": 18,
   "id": "63506f7c",
   "metadata": {},
   "outputs": [
    {
     "data": {
      "text/plain": [
       "'bob'"
      ]
     },
     "execution_count": 18,
     "metadata": {},
     "output_type": "execute_result"
    }
   ],
   "source": [
    "#Usando a classe estudando e cada atibuto da classe estudante\n",
    "estudante1.nome"
   ]
  },
  {
   "cell_type": "code",
   "execution_count": 19,
   "id": "c45d7363",
   "metadata": {},
   "outputs": [
    {
     "data": {
      "text/plain": [
       "12"
      ]
     },
     "execution_count": 19,
     "metadata": {},
     "output_type": "execute_result"
    }
   ],
   "source": [
    "estudante1.idade"
   ]
  },
  {
   "cell_type": "code",
   "execution_count": 20,
   "id": "c81530b8",
   "metadata": {},
   "outputs": [
    {
     "data": {
      "text/plain": [
       "80"
      ]
     },
     "execution_count": 20,
     "metadata": {},
     "output_type": "execute_result"
    }
   ],
   "source": [
    "estudante1.nota"
   ]
  },
  {
   "cell_type": "code",
   "execution_count": 23,
   "id": "06f894c2",
   "metadata": {},
   "outputs": [],
   "source": [
    "class funcionarios:\n",
    "    def __init__(self,nome,salario,cargo):\n",
    "        self.nome =  nome\n",
    "        self.salario = salario\n",
    "        self.cargo = cargo\n",
    "        \n",
    "    def list_funcionarios(self):\n",
    "        print(f'O nome do colaborador é {self.nome} ele recebe de salário {self.salario} exercendo o cargo de {self.cargo}')\n",
    "        \n",
    "func1 = funcionarios('Flávia',3.000, 'analista de dados')        \n",
    "        "
   ]
  },
  {
   "cell_type": "code",
   "execution_count": 24,
   "id": "43a420a3",
   "metadata": {},
   "outputs": [
    {
     "name": "stdout",
     "output_type": "stream",
     "text": [
      "O nome do colaborador é Flávia ele recebe de salário 3.0 exercendo o cargo de analista de dados\n"
     ]
    }
   ],
   "source": [
    "func1.list_funcionarios()"
   ]
  },
  {
   "cell_type": "code",
   "execution_count": 25,
   "id": "e0f7c62e",
   "metadata": {},
   "outputs": [
    {
     "name": "stdout",
     "output_type": "stream",
     "text": [
      "****usando atributos****\n"
     ]
    }
   ],
   "source": [
    "print('****usando atributos****')"
   ]
  },
  {
   "cell_type": "code",
   "execution_count": 26,
   "id": "614bd39e",
   "metadata": {},
   "outputs": [
    {
     "data": {
      "text/plain": [
       "True"
      ]
     },
     "execution_count": 26,
     "metadata": {},
     "output_type": "execute_result"
    }
   ],
   "source": [
    "#serve para conferir o atributo\n",
    "hasattr(func1,'nome')"
   ]
  },
  {
   "cell_type": "code",
   "execution_count": 29,
   "id": "27594b50",
   "metadata": {},
   "outputs": [],
   "source": [
    "#serve para modificar o atributo\n",
    "setattr(func1,'salario',3.000)"
   ]
  },
  {
   "cell_type": "code",
   "execution_count": 30,
   "id": "fa3a659b",
   "metadata": {},
   "outputs": [
    {
     "data": {
      "text/plain": [
       "'analista de dados'"
      ]
     },
     "execution_count": 30,
     "metadata": {},
     "output_type": "execute_result"
    }
   ],
   "source": [
    "#mostra o valor atribuido ao atributo\n",
    "getattr(func1,'cargo')"
   ]
  },
  {
   "cell_type": "code",
   "execution_count": 32,
   "id": "ad0ca1a9",
   "metadata": {},
   "outputs": [],
   "source": [
    "#deleta \n",
    "delattr(func1,'nome')"
   ]
  },
  {
   "cell_type": "code",
   "execution_count": 40,
   "id": "b2418839",
   "metadata": {},
   "outputs": [
    {
     "data": {
      "text/plain": [
       "5"
      ]
     },
     "execution_count": 40,
     "metadata": {},
     "output_type": "execute_result"
    }
   ],
   "source": [
    "class Circulo():\n",
    "    \n",
    "    #o valor de pi é uma constante \n",
    "    pi = 3.14\n",
    "    \n",
    "    def __init__(self, raio = 5):\n",
    "        self.raio = raio \n",
    "        \n",
    "    def area(self):\n",
    "        return (self.raio * self.raio) * Circulo.pi\n",
    "    \n",
    "    #metodo para gerar um novo raio \n",
    "    def setraio(self, novo_raio):\n",
    "        self.raio = novo_raio\n",
    "        \n",
    "    #metodo para obter o raio do circulo\n",
    "    def getraio(self):\n",
    "        return self.raio\n",
    "#criando o objeto circ, uma instancia da classe circulo \n",
    "circ = Circulo()    \n",
    "#executar o metodo da classe circo \n",
    "circ.getraio()\n"
   ]
  },
  {
   "cell_type": "code",
   "execution_count": 41,
   "id": "280cdc26",
   "metadata": {},
   "outputs": [
    {
     "data": {
      "text/plain": [
       "7"
      ]
     },
     "execution_count": 41,
     "metadata": {},
     "output_type": "execute_result"
    }
   ],
   "source": [
    "circ1 = Circulo(7)\n",
    "circ1.getraio()"
   ]
  },
  {
   "cell_type": "code",
   "execution_count": 44,
   "id": "c7335d54",
   "metadata": {},
   "outputs": [
    {
     "name": "stdout",
     "output_type": "stream",
     "text": [
      "O raio do Circulo é 7\n"
     ]
    }
   ],
   "source": [
    "#imprimindo o raio\n",
    "print(f'O raio do Circulo é {circ1.getraio()}')"
   ]
  },
  {
   "cell_type": "code",
   "execution_count": 45,
   "id": "5bc36fa6",
   "metadata": {},
   "outputs": [
    {
     "name": "stdout",
     "output_type": "stream",
     "text": [
      "O valor da area é 153.86\n"
     ]
    }
   ],
   "source": [
    "#imprindo a area\n",
    "print(f'O valor da area é {circ1.area()}')"
   ]
  },
  {
   "cell_type": "code",
   "execution_count": 46,
   "id": "ae5cfb29",
   "metadata": {},
   "outputs": [],
   "source": [
    "#gerando um novo valor para o circulo\n",
    "circ.setraio(3)"
   ]
  },
  {
   "cell_type": "code",
   "execution_count": 47,
   "id": "a1fd8981",
   "metadata": {},
   "outputs": [
    {
     "name": "stdout",
     "output_type": "stream",
     "text": [
      "O novo valor é 3\n"
     ]
    }
   ],
   "source": [
    "#imprindo o novo raio\n",
    "print(f'O novo valor é {circ.getraio()}')"
   ]
  },
  {
   "cell_type": "code",
   "execution_count": null,
   "id": "3f1cfc20",
   "metadata": {},
   "outputs": [],
   "source": []
  }
 ],
 "metadata": {
  "kernelspec": {
   "display_name": "Python 3 (ipykernel)",
   "language": "python",
   "name": "python3"
  },
  "language_info": {
   "codemirror_mode": {
    "name": "ipython",
    "version": 3
   },
   "file_extension": ".py",
   "mimetype": "text/x-python",
   "name": "python",
   "nbconvert_exporter": "python",
   "pygments_lexer": "ipython3",
   "version": "3.9.13"
  }
 },
 "nbformat": 4,
 "nbformat_minor": 5
}
