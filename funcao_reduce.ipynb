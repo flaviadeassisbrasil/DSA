{
 "cells": [
  {
   "cell_type": "code",
   "execution_count": null,
   "id": "c73ba1ae",
   "metadata": {},
   "outputs": [],
   "source": [
    "#FUNÇÃO REDUCE"
   ]
  },
  {
   "cell_type": "code",
   "execution_count": 2,
   "id": "233c46d3",
   "metadata": {},
   "outputs": [],
   "source": [
    "from functools import reduce\n",
    "lista = [47,11,42,13]\n"
   ]
  },
  {
   "cell_type": "code",
   "execution_count": 3,
   "id": "f3a3a85c",
   "metadata": {},
   "outputs": [],
   "source": [
    "def soma(x,y):\n",
    "    a = x + y\n",
    "    return a"
   ]
  },
  {
   "cell_type": "code",
   "execution_count": 4,
   "id": "71b8c50b",
   "metadata": {},
   "outputs": [
    {
     "data": {
      "text/plain": [
       "113"
      ]
     },
     "execution_count": 4,
     "metadata": {},
     "output_type": "execute_result"
    }
   ],
   "source": [
    "#usando reduce com uma função em uma lista. função vai retornar o valor maximo\n",
    "reduce(soma,lista)"
   ]
  },
  {
   "cell_type": "code",
   "execution_count": 5,
   "id": "71c76d38",
   "metadata": {},
   "outputs": [
    {
     "data": {
      "text/plain": [
       "136"
      ]
     },
     "execution_count": 5,
     "metadata": {},
     "output_type": "execute_result"
    }
   ],
   "source": [
    "lista2 = [45,78,13]\n",
    "reduce(lambda x,y: x+y,lista2)"
   ]
  },
  {
   "cell_type": "code",
   "execution_count": null,
   "id": "d2d9fca6",
   "metadata": {},
   "outputs": [],
   "source": []
  }
 ],
 "metadata": {
  "kernelspec": {
   "display_name": "Python 3 (ipykernel)",
   "language": "python",
   "name": "python3"
  },
  "language_info": {
   "codemirror_mode": {
    "name": "ipython",
    "version": 3
   },
   "file_extension": ".py",
   "mimetype": "text/x-python",
   "name": "python",
   "nbconvert_exporter": "python",
   "pygments_lexer": "ipython3",
   "version": "3.9.13"
  }
 },
 "nbformat": 4,
 "nbformat_minor": 5
}
