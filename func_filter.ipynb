{
 "cells": [
  {
   "cell_type": "code",
   "execution_count": null,
   "id": "3d97be04",
   "metadata": {},
   "outputs": [],
   "source": [
    "#A funçaõ filter() filtra elementos de uma estrutura de dados iterável(como uma lista ou uma tupla) com base em uam determinada\n",
    "#condição. A função filter RETORNA um objeto filtro que pode ser convetido em outra estrutura de dados, como uma lista se necessario"
   ]
  },
  {
   "cell_type": "code",
   "execution_count": 1,
   "id": "11365ed8",
   "metadata": {},
   "outputs": [],
   "source": [
    "#criando uma função\n",
    "def verificando(num):\n",
    "    if num % 2 == 0:\n",
    "        return True\n",
    "    else:\n",
    "        return False "
   ]
  },
  {
   "cell_type": "code",
   "execution_count": 3,
   "id": "8df4437b",
   "metadata": {},
   "outputs": [
    {
     "data": {
      "text/plain": [
       "True"
      ]
     },
     "execution_count": 3,
     "metadata": {},
     "output_type": "execute_result"
    }
   ],
   "source": [
    "verificando(22)"
   ]
  },
  {
   "cell_type": "code",
   "execution_count": 10,
   "id": "0b593451",
   "metadata": {},
   "outputs": [
    {
     "name": "stdout",
     "output_type": "stream",
     "text": [
      "[0, 1, 2, 3, 4, 5, 6, 7, 8, 9, 10, 11, 12, 13, 14, 15, 16, 17, 18, 19]\n"
     ]
    }
   ],
   "source": [
    "lista = list(range(0,20))\n",
    "print(lista)"
   ]
  },
  {
   "cell_type": "code",
   "execution_count": 12,
   "id": "4ce6492f",
   "metadata": {},
   "outputs": [
    {
     "data": {
      "text/plain": [
       "[0, 2, 4, 6, 8, 10, 12, 14, 16, 18]"
      ]
     },
     "execution_count": 12,
     "metadata": {},
     "output_type": "execute_result"
    }
   ],
   "source": [
    "#função filter() retorna um iterador que tem de ser comvertido para uma lista]\n",
    "\n",
    "list(filter(verificando,lista))"
   ]
  },
  {
   "cell_type": "code",
   "execution_count": null,
   "id": "14bd4b40",
   "metadata": {},
   "outputs": [],
   "source": []
  }
 ],
 "metadata": {
  "kernelspec": {
   "display_name": "Python 3 (ipykernel)",
   "language": "python",
   "name": "python3"
  },
  "language_info": {
   "codemirror_mode": {
    "name": "ipython",
    "version": 3
   },
   "file_extension": ".py",
   "mimetype": "text/x-python",
   "name": "python",
   "nbconvert_exporter": "python",
   "pygments_lexer": "ipython3",
   "version": "3.9.13"
  }
 },
 "nbformat": 4,
 "nbformat_minor": 5
}
